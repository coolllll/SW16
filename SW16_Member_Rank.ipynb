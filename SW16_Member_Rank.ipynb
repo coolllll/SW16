{
 "cells": [
  {
   "cell_type": "code",
   "execution_count": 53,
   "metadata": {
    "collapsed": true
   },
   "outputs": [],
   "source": [
    "import json\n",
    "import sys\n",
    "import pandas as pd\n",
    "import matplotlib.pyplot as plt\n",
    "\n",
    "tweets_data_path = 'test.json'\n",
    "\n",
    "total = 0\n",
    "tweets_data = []\n",
    "tweets_file = open(tweets_data_path, \"r\")\n",
    "count = 0\n",
    "for line in tweets_file:\n",
    "    try:\n",
    "        if (line == '\\n'):      # skip empty lines\n",
    "            continue\n",
    "        count = count + 1\n",
    "        tweet = json.loads(line)\n",
    "        tweets_data.append(tweet)\n",
    "        if count%100 == 0:\n",
    "            sys.stdout.write('.')\n",
    "        if count%7000 == 0:\n",
    "            sys.stdout.write('\\n')\n",
    "    except Exception as e:\n",
    "        print(e)\n",
    "        continue"
   ]
  },
  {
   "cell_type": "code",
   "execution_count": 54,
   "metadata": {},
   "outputs": [
    {
     "name": "stdout",
     "output_type": "stream",
     "text": [
      "        screen_name  followers_count  friends_count\n",
      "0      Pada_Sweat16              882             15\n",
      "1     Proud_Sweat16             1243             58\n",
      "2       Ant_Sweat16             1096             19\n",
      "3     Petch_Sweat16             1147             31\n",
      "4        Ae_Sweat16             1190             87\n",
      "5      anny_sweat16              941             15\n",
      "6   MahnmookSweat16             2669             39\n",
      "7      Mint_Sweat16             1516             30\n",
      "8       Pim_Sweat16             1467             70\n",
      "9     Sonja_Sweat16             1475             39\n",
      "10    Music_Sweat16             1545             49\n",
      "11     Fame_Sweat16             1099             67\n",
      "12     Nink_Sweat16             1144             24\n"
     ]
    }
   ],
   "source": [
    "tweets = pd.DataFrame()\n",
    "\n",
    "tweets['screen_name'] = list(map(lambda tweet: tweet.get('screen_name', None), tweets_data))\n",
    "tweets['followers_count'] = list(map(lambda tweet: tweet.get('followers_count', None), tweets_data))\n",
    "tweets['friends_count'] = list(map(lambda tweet: tweet.get('friends_count', None), tweets_data))\n",
    "\n",
    "\n",
    "\n",
    "print(tweets)\n"
   ]
  },
  {
   "cell_type": "code",
   "execution_count": 41,
   "metadata": {
    "collapsed": true
   },
   "outputs": [],
   "source": [
    "test_dict = {}\n",
    "for i in tweets_data :\n",
    "    test_dict[i['screen_name']] = i['followers_count']\n"
   ]
  },
  {
   "cell_type": "markdown",
   "metadata": {},
   "source": [
    "# Sweat16! Member Rank By Followers"
   ]
  },
  {
   "cell_type": "code",
   "execution_count": 55,
   "metadata": {},
   "outputs": [
    {
     "name": "stdout",
     "output_type": "stream",
     "text": [
      "MahnmookSweat16\n",
      "Music_Sweat16\n",
      "Mint_Sweat16\n",
      "Sonja_Sweat16\n",
      "Pim_Sweat16\n",
      "Proud_Sweat16\n",
      "Ae_Sweat16\n",
      "Petch_Sweat16\n",
      "Nink_Sweat16\n",
      "Fame_Sweat16\n",
      "Ant_Sweat16\n",
      "anny_sweat16\n",
      "Pada_Sweat16\n"
     ]
    }
   ],
   "source": [
    "# import operator\n",
    "sorted_x = sorted(test_dict.items(), key=operator.itemgetter(1))\n",
    "sorted_x.reverse()\n",
    "for key , val in sorted_x :\n",
    "    total += val\n",
    "    print(key)\n",
    "    "
   ]
  },
  {
   "cell_type": "code",
   "execution_count": 45,
   "metadata": {
    "collapsed": true
   },
   "outputs": [],
   "source": [
    "test_dict2 = {}\n",
    "for i in tweets_data :\n",
    "    test_dict2[i['screen_name']] = i['followers_count']/i['friends_count']\n"
   ]
  },
  {
   "cell_type": "markdown",
   "metadata": {},
   "source": [
    "# Sweat16! Member Rank By (Followers)/(Following)"
   ]
  },
  {
   "cell_type": "code",
   "execution_count": 46,
   "metadata": {},
   "outputs": [
    {
     "name": "stdout",
     "output_type": "stream",
     "text": [
      "MahnmookSweat16\n",
      "anny_sweat16\n",
      "Pada_Sweat16\n",
      "Ant_Sweat16\n",
      "Mint_Sweat16\n",
      "Nink_Sweat16\n",
      "Sonja_Sweat16\n",
      "Petch_Sweat16\n",
      "Music_Sweat16\n",
      "Proud_Sweat16\n",
      "Pim_Sweat16\n",
      "Fame_Sweat16\n",
      "Ae_Sweat16\n"
     ]
    }
   ],
   "source": [
    "sorted_y = sorted(test_dict2.items(), key=operator.itemgetter(1))\n",
    "sorted_y.reverse()\n",
    "for key , val in sorted_y :\n",
    "    print(key)"
   ]
  },
  {
   "cell_type": "code",
   "execution_count": 56,
   "metadata": {},
   "outputs": [
    {
     "name": "stdout",
     "output_type": "stream",
     "text": [
      "17414\n"
     ]
    }
   ],
   "source": [
    "print( total)"
   ]
  },
  {
   "cell_type": "code",
   "execution_count": null,
   "metadata": {
    "collapsed": true
   },
   "outputs": [],
   "source": []
  }
 ],
 "metadata": {
  "kernelspec": {
   "display_name": "Python 3",
   "language": "python",
   "name": "python3"
  },
  "language_info": {
   "codemirror_mode": {
    "name": "ipython",
    "version": 3
   },
   "file_extension": ".py",
   "mimetype": "text/x-python",
   "name": "python",
   "nbconvert_exporter": "python",
   "pygments_lexer": "ipython3",
   "version": "3.6.1"
  }
 },
 "nbformat": 4,
 "nbformat_minor": 2
}
